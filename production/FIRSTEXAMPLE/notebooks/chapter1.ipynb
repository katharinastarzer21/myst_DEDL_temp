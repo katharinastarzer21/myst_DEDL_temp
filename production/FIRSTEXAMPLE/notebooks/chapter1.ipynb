{
 "cells": [
  {
   "cell_type": "markdown",
   "id": "c562654d",
   "metadata": {},
   "source": [
    "# example ipynb\n"
   ]
  },
  {
   "cell_type": "code",
   "execution_count": 1,
   "id": "e16db82b",
   "metadata": {},
   "outputs": [
    {
     "name": "stdout",
     "output_type": "stream",
     "text": [
      "9.041075725336862\n"
     ]
    }
   ],
   "source": [
    "import numpy\n",
    "\n",
    "a = 10\n",
    "b = 5\n",
    "c = a + numpy.sin(b)\n",
    "\n",
    "print(c)"
   ]
  }
 ],
 "metadata": {
  "kernelspec": {
   "display_name": "Python 3",
   "language": "python",
   "name": "python3"
  },
  "language_info": {
   "codemirror_mode": {
    "name": "ipython",
    "version": 3
   },
   "file_extension": ".py",
   "mimetype": "text/x-python",
   "name": "python",
   "nbconvert_exporter": "python",
   "pygments_lexer": "ipython3",
   "version": "3.10.12"
  }
 },
 "nbformat": 4,
 "nbformat_minor": 5
}
